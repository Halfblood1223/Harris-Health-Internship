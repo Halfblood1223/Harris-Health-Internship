{
 "cells": [
  {
   "cell_type": "code",
   "execution_count": null,
   "id": "65af7c64-43cb-4b42-bcd1-2334053fd388",
   "metadata": {},
   "outputs": [],
   "source": [
    "import pandas as pd\n",
    "import holoviews as hv\n",
    "import numpy as np\n",
    "import matplotlib.pyplot as plt\n",
    "\n",
    "import geopy\n",
    "import folium\n",
    "\n",
    "import datetime as dt\n",
    "\n",
    "hv.extension('bokeh')"
   ]
  },
  {
   "cell_type": "markdown",
   "id": "73427959-76cd-4574-83ff-7fb917b7c12e",
   "metadata": {},
   "source": [
    "# Visualizing Covid Cases + Deaths from Kaggle Dataset\n",
    "\n",
    "## File is 1.5 millions rows long. Contains 3274 counties in the US\n",
    "\n",
    "### Models\n",
    "- Holoviews slider controlled cases/deaths scatterplot\n",
    "- Folium radius indicated cases/deaths map\n",
    "- Folium color indicated cases/deaths map\n",
    "\n",
    "### Link\n",
    "[Kaggle Dataset](https://www.kaggle.com/fireballbyedimyrnmom/us-counties-covid-19-dataset)"
   ]
  },
  {
   "cell_type": "code",
   "execution_count": null,
   "id": "e6338014-46cf-4be5-bc5f-0fb3e44fe647",
   "metadata": {},
   "outputs": [],
   "source": [
    "df = pd.read_csv(\"../datasets/us-counties.csv\")\n",
    "df"
   ]
  },
  {
   "cell_type": "code",
   "execution_count": null,
   "id": "3dd9ecb8-ef20-4004-ae50-c2547888784a",
   "metadata": {},
   "outputs": [],
   "source": [
    "# seperate dated records by county\n",
    "\n",
    "def county_date_seperated(df):\n",
    "    cdsd = df.groupby(['date', 'county', 'state']).sum()\n",
    "    return cdsd\n",
    "\n",
    "cdsd = county_date_seperated(df)"
   ]
  },
  {
   "cell_type": "code",
   "execution_count": null,
   "id": "2b6a5542-f0c4-41e5-8d5b-f5074b37b2f3",
   "metadata": {},
   "outputs": [],
   "source": [
    "# dynamic graph for deaths by county for dates after the start of data\n",
    "\n",
    "def dgraph(td):\n",
    "    origin = dt.date(2020, 1, 21)\n",
    "    req_date = origin + dt.timedelta(days=td)\n",
    "    req_data = cdsd['deaths'][str(req_date).split(' ')[0]]\n",
    "    data = [(f\"{county[0]}, {county[1]}\", entry) for county, entry in req_data.iteritems()]\n",
    "    return hv.Scatter(data, hv.Dimension('Counties'), 'Deaths')\n",
    "\n",
    "dmap = hv.DynamicMap(dgraph, kdims=['Days_From_Origin'])\n",
    "dmap.redim.range(Days_From_Origin=(0,552))"
   ]
  },
  {
   "cell_type": "code",
   "execution_count": null,
   "id": "95a13b37-30a9-4381-97cc-3a775ea19e41",
   "metadata": {
    "tags": []
   },
   "outputs": [],
   "source": [
    "# geocode the counties\n",
    "\n",
    "from geopy.geocoders import Nominatim\n",
    "from geopy.extra.rate_limiter import RateLimiter\n",
    "import tqdm\n",
    "from tqdm import tqdm\n",
    "\n",
    "def geocode(df):\n",
    "    geolocator = Nominatim(user_agent=\"kaggle_geoviz\")\n",
    "    geocode = RateLimiter(geolocator.geocode, min_delay_seconds=1)\n",
    "    county_list = df[['county', 'state']].groupby(['county', 'state']).count().index\n",
    "    print(len(county_list))\n",
    "    coords_df = {}\n",
    "    error_counties = []\n",
    "    for county in tqdm(county_list):\n",
    "        address = f\"{county[0]}, {county[1]}\"\n",
    "        location = geolocator.geocode(f\"{address}, USA\")\n",
    "        try:\n",
    "            coords_df[address] = (location.latitude, location.longitude)\n",
    "        except:\n",
    "            error_counties.append(address)\n",
    "    return coords_df, error_counties\n",
    "coords_df, error_counties = geocode(df)"
   ]
  },
  {
   "cell_type": "code",
   "execution_count": null,
   "id": "2cdf52a7-eb84-4969-b3b6-cc0d69a89945",
   "metadata": {
    "tags": []
   },
   "outputs": [],
   "source": [
    "coords_df = pd.DataFrame.from_dict(coords_df)\n",
    "coords_df.to_csv('../datasets/coords-us-counties.csv')"
   ]
  },
  {
   "cell_type": "code",
   "execution_count": null,
   "id": "9e3d1af0-0841-4b62-ac65-e95f7595d95d",
   "metadata": {},
   "outputs": [],
   "source": [
    "# load coords_df from csv\n",
    "# was run once and downloaded subsequenty\n",
    "\n",
    "coords_df = pd.read_csv('../datasets/coords-us-counties.csv')\n"
   ]
  },
  {
   "cell_type": "code",
   "execution_count": null,
   "id": "d855dd27-f142-4331-a1b8-09db1c34bb7b",
   "metadata": {
    "tags": []
   },
   "outputs": [],
   "source": [
    "# plot markers on folium map\n",
    "\n",
    "map = folium.Map(location=[39.5, -98.35], tile=\"Stamen Toner\")\n",
    "\n",
    "for coords in coords_df:\n",
    "    x, y = coords_df[coords][0], coords_df[coords][1]\n",
    "    folium.Marker(\n",
    "        location=[x, y],\n",
    "        popup=coords,\n",
    "        icon=folium.Icon(icon=\"cloud\")\n",
    "    ).add_to(map)\n",
    "    \n",
    "map"
   ]
  },
  {
   "cell_type": "code",
   "execution_count": null,
   "id": "1d407a53-e1e1-4fcf-bd33-a877fdffcf3d",
   "metadata": {
    "tags": []
   },
   "outputs": [],
   "source": [
    "# plot with varying size based on date\n",
    "\n",
    "map = folium.Map(location=[39.5, -98.35], tiles=\"Stamen Toner\")\n",
    "\n",
    "def cd_dgraph(td):\n",
    "    error_counties = []\n",
    "    origin = dt.date(2020, 1, 21)\n",
    "    req_date = origin + dt.timedelta(days=td)\n",
    "    req_data = cdsd['deaths'][str(req_date).split(' ')[0]]\n",
    "    data = [(county, entry) for county, entry in req_data.iteritems()]\n",
    "    for entry in data:\n",
    "        try:\n",
    "            x, y = coords_df[f\"{entry[0][0]}, {entry[0][1]}\"][0], coords_df[f\"{entry[0][0]}, {entry[0][1]}\"][1]\n",
    "            deaths = entry[1]\n",
    "            folium.Circle(\n",
    "                location=[x, y],\n",
    "                radius=deaths/10000,\n",
    "                popup=f\"{entry[0][0]}, {entry[0][1]}\",\n",
    "                icon=folium.Icon(icon=\"cloud\")\n",
    "            ).add_to(map)\n",
    "        except:\n",
    "            error_counties.append(f\"{entry[0][0]}, {entry[0][1]}\")\n",
    "    return map\n",
    "\n",
    "cd_dgraph(80)"
   ]
  },
  {
   "cell_type": "code",
   "execution_count": null,
   "id": "1f55bc7a-9cd3-411a-b89a-7f6ac1e87b50",
   "metadata": {
    "tags": []
   },
   "outputs": [],
   "source": [
    "# plot with varying heat based on date\n",
    "\n",
    "from folium.plugins import HeatMapWithTime\n",
    "\n",
    "import tqdm\n",
    "from tqdm import tqdm\n",
    "\n",
    "map = folium.Map(location=[39.5, -98.35])\n",
    "\n",
    "heat_data = []\n",
    "\n",
    "def daily_heatmap_data_generator(td):\n",
    "    error_counties = []\n",
    "    origin = dt.date(2020, 1, 21)\n",
    "    req_date = origin + dt.timedelta(days=td)\n",
    "    req_data = cdsd['deaths'][str(req_date).split(' ')[0]]\n",
    "    data = [(county, entry) for county, entry in req_data.iteritems()]\n",
    "    heat_data = []\n",
    "    for entry in data:\n",
    "        try:\n",
    "            x, y = coords_df[f\"{entry[0][0]}, {entry[0][1]}\"][0], coords_df[f\"{entry[0][0]}, {entry[0][1]}\"][1]\n",
    "            deaths = entry[1]\n",
    "            heat_data.append([x, y, deaths])\n",
    "        except:\n",
    "            error_counties.append(f\"{entry[0][0]}, {entry[0][1]}\")\n",
    "\n",
    "    return heat_data\n",
    "\n",
    "def heatmap_time_series_generator(tdrange): # td range is how many days from the origin you want\n",
    "    ts_heat = []\n",
    "    origin = dt.date(2020, 1, 21)\n",
    "    for td in tqdm(range(tdrange)):\n",
    "        ts_heat.append(daily_heatmap_data_generator(td))\n",
    "    HeatMapWithTime(ts_heat).add_to(map)\n",
    "    return map, ts_heat\n",
    "\n",
    "map, ts_heat2 = heatmap_time_series_generator(550)\n",
    "ts_heat2"
   ]
  },
  {
   "cell_type": "code",
   "execution_count": null,
   "id": "e836f831-dcc9-49f5-8249-9b42a34e106b",
   "metadata": {
    "tags": []
   },
   "outputs": [],
   "source": [
    "# heatmap adjusted to use deaths per cases\n",
    "\n",
    "from folium.plugins import HeatMapWithTime\n",
    "\n",
    "import tqdm\n",
    "from tqdm import tqdm\n",
    "\n",
    "hmap_ts = folium.Map(location=[39.5, -98.35])\n",
    "\n",
    "heat_data = []\n",
    "\n",
    "# cdsd['DPC'] = cdsd.apply(lambda row: row.deaths / row.cases * 10000, axis=1)\n",
    "\n",
    "def daily_heatmap_data_generator_dpc(td):\n",
    "    error_counties = []\n",
    "    origin = dt.date(2020, 1, 21)\n",
    "    req_date = origin + dt.timedelta(days=td)\n",
    "    req_data = cdsd['DPC'][str(req_date).split(' ')[0]]\n",
    "    data = [(county, entry) for county, entry in req_data.iteritems()]\n",
    "    heat_data = []\n",
    "    for entry in data:\n",
    "        try:\n",
    "            x, y = coords_df[f\"{entry[0][0]}, {entry[0][1]}\"][0], coords_df[f\"{entry[0][0]}, {entry[0][1]}\"][1]\n",
    "            dpc = entry[1]\n",
    "            heat_data.append([x, y, dpc])\n",
    "        except:\n",
    "            error_counties.append(f\"{entry[0][0]}, {entry[0][1]}\")\n",
    "    return heat_data\n",
    "\n",
    "def heatmap_time_series_generator_dpc(tdrange): # td range is how many days from the origin you want\n",
    "    ts_heat = []\n",
    "    origin = dt.date(2020, 1, 21)\n",
    "    for td in tqdm(range(tdrange)):\n",
    "        ts_heat.append(daily_heatmap_data_generator_dpc(td))\n",
    "    HeatMapWithTime(ts_heat, auto_play=True).add_to(hmap_ts)\n",
    "    return ts_heat\n",
    "\n",
    "ts_heat = heatmap_time_series_generator_dpc(550)\n",
    "hmap_ts"
   ]
  },
  {
   "cell_type": "code",
   "execution_count": null,
   "id": "da02f0cb-72d7-49ad-a043-3049186c9901",
   "metadata": {
    "tags": []
   },
   "outputs": [],
   "source": [
    "ts_heat[450:]"
   ]
  },
  {
   "cell_type": "code",
   "execution_count": null,
   "id": "228eebad-ab07-48e0-8057-4a605dc4b381",
   "metadata": {
    "tags": []
   },
   "outputs": [],
   "source": [
    "from folium.plugins import HeatMap\n",
    "\n",
    "newmap = folium.Map(location=[39.5, -98.35])\n",
    "HeatMap(daily_heatmap_data_generator_dpc(500)).add_to(newmap)\n",
    "\n",
    "newmap"
   ]
  },
  {
   "cell_type": "code",
   "execution_count": null,
   "id": "477c7ff4-cfc4-4995-affa-7ce039749482",
   "metadata": {},
   "outputs": [],
   "source": [
    "hmap_ts"
   ]
  },
  {
   "cell_type": "code",
   "execution_count": null,
   "id": "e9de304e-64df-4059-b20d-0e18c56597a1",
   "metadata": {},
   "outputs": [],
   "source": [
    "ts_heat[549][0]"
   ]
  },
  {
   "cell_type": "code",
   "execution_count": null,
   "id": "bc1205a2-b9f4-4c98-8af4-2283ed36ddf9",
   "metadata": {},
   "outputs": [],
   "source": [
    "ts_heat2[549][0]"
   ]
  },
  {
   "cell_type": "code",
   "execution_count": null,
   "id": "34aea3be-68bf-4744-a375-3ff462b3170f",
   "metadata": {},
   "outputs": [],
   "source": []
  }
 ],
 "metadata": {
  "kernelspec": {
   "display_name": "Python 3 (ipykernel)",
   "language": "python",
   "name": "python3"
  },
  "language_info": {
   "codemirror_mode": {
    "name": "ipython",
    "version": 3
   },
   "file_extension": ".py",
   "mimetype": "text/x-python",
   "name": "python",
   "nbconvert_exporter": "python",
   "pygments_lexer": "ipython3",
   "version": "3.8.10"
  }
 },
 "nbformat": 4,
 "nbformat_minor": 5
}
